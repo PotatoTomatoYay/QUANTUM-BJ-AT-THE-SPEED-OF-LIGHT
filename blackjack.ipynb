{
 "cells": [
  {
   "cell_type": "code",
   "execution_count": null,
   "metadata": {},
   "outputs": [],
   "source": []
  },
  {
   "cell_type": "code",
   "execution_count": 1,
   "metadata": {},
   "outputs": [
    {
     "name": "stdout",
     "output_type": "stream",
     "text": [
      "Requirement already satisfied: qiskit in /opt/conda/lib/python3.7/site-packages (0.27.0)\n",
      "Requirement already satisfied: qiskit-terra==0.17.4 in /opt/conda/lib/python3.7/site-packages (from qiskit) (0.17.4)\n",
      "Requirement already satisfied: qiskit-ibmq-provider==0.14.0 in /opt/conda/lib/python3.7/site-packages (from qiskit) (0.14.0)\n",
      "Requirement already satisfied: qiskit-aqua==0.9.2 in /opt/conda/lib/python3.7/site-packages (from qiskit) (0.9.2)\n",
      "Requirement already satisfied: qiskit-ignis==0.6.0 in /opt/conda/lib/python3.7/site-packages (from qiskit) (0.6.0)\n",
      "Requirement already satisfied: qiskit-aer==0.8.2 in /opt/conda/lib/python3.7/site-packages (from qiskit) (0.8.2)\n",
      "Requirement already satisfied: numpy>=1.17 in /opt/conda/lib/python3.7/site-packages (from qiskit-terra==0.17.4->qiskit) (1.18.4)\n",
      "Requirement already satisfied: ply>=3.10 in /opt/conda/lib/python3.7/site-packages (from qiskit-terra==0.17.4->qiskit) (3.11)\n",
      "Requirement already satisfied: jsonschema>=2.6 in /opt/conda/lib/python3.7/site-packages (from qiskit-terra==0.17.4->qiskit) (3.0.1)\n",
      "Requirement already satisfied: retworkx>=0.8.0 in /opt/conda/lib/python3.7/site-packages (from qiskit-terra==0.17.4->qiskit) (0.9.0)\n",
      "Requirement already satisfied: psutil>=5 in /opt/conda/lib/python3.7/site-packages (from qiskit-terra==0.17.4->qiskit) (5.8.0)\n",
      "Requirement already satisfied: dill>=0.3 in /opt/conda/lib/python3.7/site-packages (from qiskit-terra==0.17.4->qiskit) (0.3.4)\n",
      "Requirement already satisfied: fastjsonschema>=2.10 in /opt/conda/lib/python3.7/site-packages (from qiskit-terra==0.17.4->qiskit) (2.15.1)\n",
      "Requirement already satisfied: python-constraint>=1.4 in /opt/conda/lib/python3.7/site-packages (from qiskit-terra==0.17.4->qiskit) (1.4.0)\n",
      "Requirement already satisfied: sympy>=1.3 in /opt/conda/lib/python3.7/site-packages (from qiskit-terra==0.17.4->qiskit) (1.4)\n",
      "Requirement already satisfied: python-dateutil>=2.8.0 in /opt/conda/lib/python3.7/site-packages (from qiskit-terra==0.17.4->qiskit) (2.8.0)\n",
      "\u001b[33mWARNING: Keyring is skipped due to an exception: entry_points() got an unexpected keyword argument 'group'\u001b[0m\n",
      "\u001b[33mWARNING: Keyring is skipped due to an exception: entry_points() got an unexpected keyword argument 'group'\u001b[0m\n",
      "Collecting scipy>=1.4\n",
      "\u001b[33m  WARNING: Keyring is skipped due to an exception: entry_points() got an unexpected keyword argument 'group'\u001b[0m\n",
      "  Using cached scipy-1.7.1-cp37-cp37m-manylinux_2_5_x86_64.manylinux1_x86_64.whl (28.5 MB)\n",
      "Requirement already satisfied: requests-ntlm>=1.1.0 in /opt/conda/lib/python3.7/site-packages (from qiskit-ibmq-provider==0.14.0->qiskit) (1.1.0)\n",
      "Requirement already satisfied: requests>=2.19 in /opt/conda/lib/python3.7/site-packages (from qiskit-ibmq-provider==0.14.0->qiskit) (2.23.0)\n",
      "Requirement already satisfied: websocket-client>=1.0.1 in /opt/conda/lib/python3.7/site-packages (from qiskit-ibmq-provider==0.14.0->qiskit) (1.1.0)\n",
      "Requirement already satisfied: urllib3>=1.21.1 in /opt/conda/lib/python3.7/site-packages (from qiskit-ibmq-provider==0.14.0->qiskit) (1.26.5)\n",
      "Requirement already satisfied: fastdtw<=0.3.4 in /opt/conda/lib/python3.7/site-packages (from qiskit-aqua==0.9.2->qiskit) (0.3.2)\n",
      "Requirement already satisfied: quandl in /opt/conda/lib/python3.7/site-packages (from qiskit-aqua==0.9.2->qiskit) (3.4.8)\n",
      "Requirement already satisfied: setuptools>=40.1.0 in /opt/conda/lib/python3.7/site-packages (from qiskit-aqua==0.9.2->qiskit) (47.3.1.post20200616)\n",
      "Requirement already satisfied: yfinance in /opt/conda/lib/python3.7/site-packages (from qiskit-aqua==0.9.2->qiskit) (0.1.63)\n",
      "Requirement already satisfied: dlx<=1.0.4 in /opt/conda/lib/python3.7/site-packages (from qiskit-aqua==0.9.2->qiskit) (1.0.4)\n",
      "Requirement already satisfied: pandas in /opt/conda/lib/python3.7/site-packages (from qiskit-aqua==0.9.2->qiskit) (0.25.0)\n",
      "Requirement already satisfied: scikit-learn>=0.20.0 in /opt/conda/lib/python3.7/site-packages (from qiskit-aqua==0.9.2->qiskit) (0.21.3)\n",
      "Requirement already satisfied: h5py in /opt/conda/lib/python3.7/site-packages (from qiskit-aqua==0.9.2->qiskit) (2.9.0)\n",
      "Requirement already satisfied: docplex<=2.20.204; sys_platform != \"darwin\" in /opt/conda/lib/python3.7/site-packages (from qiskit-aqua==0.9.2->qiskit) (2.10.154)\n",
      "\u001b[33mWARNING: Keyring is skipped due to an exception: entry_points() got an unexpected keyword argument 'group'\u001b[0m\n",
      "\u001b[33mWARNING: Keyring is skipped due to an exception: entry_points() got an unexpected keyword argument 'group'\u001b[0m\n",
      "Collecting pybind11>=2.6\n",
      "\u001b[33m  WARNING: Keyring is skipped due to an exception: entry_points() got an unexpected keyword argument 'group'\u001b[0m\n",
      "  Using cached pybind11-2.8.0-py2.py3-none-any.whl (207 kB)\n",
      "Requirement already satisfied: six>=1.11.0 in /opt/conda/lib/python3.7/site-packages (from jsonschema>=2.6->qiskit-terra==0.17.4->qiskit) (1.12.0)\n",
      "Requirement already satisfied: pyrsistent>=0.14.0 in /opt/conda/lib/python3.7/site-packages (from jsonschema>=2.6->qiskit-terra==0.17.4->qiskit) (0.16.0)\n",
      "Requirement already satisfied: attrs>=17.4.0 in /opt/conda/lib/python3.7/site-packages (from jsonschema>=2.6->qiskit-terra==0.17.4->qiskit) (19.1.0)\n",
      "Requirement already satisfied: mpmath>=0.19 in /opt/conda/lib/python3.7/site-packages (from sympy>=1.3->qiskit-terra==0.17.4->qiskit) (1.1.0)\n",
      "Requirement already satisfied: cryptography>=1.3 in /opt/conda/lib/python3.7/site-packages (from requests-ntlm>=1.1.0->qiskit-ibmq-provider==0.14.0->qiskit) (3.4.7)\n",
      "Requirement already satisfied: ntlm-auth>=1.0.2 in /opt/conda/lib/python3.7/site-packages (from requests-ntlm>=1.1.0->qiskit-ibmq-provider==0.14.0->qiskit) (1.3.0)\n",
      "Requirement already satisfied: idna<3,>=2.5 in /opt/conda/lib/python3.7/site-packages (from requests>=2.19->qiskit-ibmq-provider==0.14.0->qiskit) (2.8)\n",
      "Requirement already satisfied: chardet<4,>=3.0.2 in /opt/conda/lib/python3.7/site-packages (from requests>=2.19->qiskit-ibmq-provider==0.14.0->qiskit) (3.0.4)\n",
      "Requirement already satisfied: certifi>=2017.4.17 in /opt/conda/lib/python3.7/site-packages (from requests>=2.19->qiskit-ibmq-provider==0.14.0->qiskit) (2019.6.16)\n",
      "Requirement already satisfied: more-itertools<=5.0.0 in /opt/conda/lib/python3.7/site-packages (from quandl->qiskit-aqua==0.9.2->qiskit) (5.0.0)\n",
      "Requirement already satisfied: pyOpenSSL in /opt/conda/lib/python3.7/site-packages (from quandl->qiskit-aqua==0.9.2->qiskit) (19.0.0)\n",
      "Requirement already satisfied: ndg-httpsclient in /opt/conda/lib/python3.7/site-packages (from quandl->qiskit-aqua==0.9.2->qiskit) (0.5.1)\n",
      "Requirement already satisfied: pyasn1 in /opt/conda/lib/python3.7/site-packages (from quandl->qiskit-aqua==0.9.2->qiskit) (0.4.6)\n",
      "Requirement already satisfied: inflection>=0.3.1 in /opt/conda/lib/python3.7/site-packages (from quandl->qiskit-aqua==0.9.2->qiskit) (0.3.1)\n",
      "Requirement already satisfied: multitasking>=0.0.7 in /opt/conda/lib/python3.7/site-packages (from yfinance->qiskit-aqua==0.9.2->qiskit) (0.0.9)\n",
      "Requirement already satisfied: lxml>=4.5.1 in /opt/conda/lib/python3.7/site-packages (from yfinance->qiskit-aqua==0.9.2->qiskit) (4.6.3)\n",
      "Requirement already satisfied: pytz>=2017.2 in /opt/conda/lib/python3.7/site-packages (from pandas->qiskit-aqua==0.9.2->qiskit) (2019.2)\n",
      "Requirement already satisfied: joblib>=0.11 in /opt/conda/lib/python3.7/site-packages (from scikit-learn>=0.20.0->qiskit-aqua==0.9.2->qiskit) (0.13.2)\n",
      "Requirement already satisfied: docloud>=1.0.369 in /opt/conda/lib/python3.7/site-packages (from docplex<=2.20.204; sys_platform != \"darwin\"->qiskit-aqua==0.9.2->qiskit) (1.0.375)\n",
      "Requirement already satisfied: cffi>=1.12 in /opt/conda/lib/python3.7/site-packages (from cryptography>=1.3->requests-ntlm>=1.1.0->qiskit-ibmq-provider==0.14.0->qiskit) (1.12.3)\n",
      "Requirement already satisfied: pycparser in /opt/conda/lib/python3.7/site-packages (from cffi>=1.12->cryptography>=1.3->requests-ntlm>=1.1.0->qiskit-ibmq-provider==0.14.0->qiskit) (2.19)\n",
      "\u001b[31mERROR: thewalrus 0.15.1 has requirement sympy>=1.5.1, but you'll have sympy 1.4 which is incompatible.\u001b[0m\n",
      "\u001b[31mERROR: strawberryfields 0.18.0 has requirement sympy>=1.5, but you'll have sympy 1.4 which is incompatible.\u001b[0m\n",
      "\u001b[31mERROR: strangeworks 2.4.5 has requirement antlr4-python3-runtime==4.8, but you'll have antlr4-python3-runtime 4.7.2 which is incompatible.\u001b[0m\n",
      "\u001b[31mERROR: strangeworks 2.4.5 has requirement pylatexenc==2.7, but you'll have pylatexenc 1.5 which is incompatible.\u001b[0m\n",
      "\u001b[31mERROR: pytket 0.12.0 has requirement networkx~=2.4, but you'll have networkx 2.2 which is incompatible.\u001b[0m\n",
      "\u001b[31mERROR: pytket 0.12.0 has requirement numpy~=1.20, but you'll have numpy 1.18.4 which is incompatible.\u001b[0m\n",
      "\u001b[31mERROR: pytket 0.12.0 has requirement sympy~=1.6, but you'll have sympy 1.4 which is incompatible.\u001b[0m\n",
      "\u001b[31mERROR: pytket-honeywell 0.12.0 has requirement nest-asyncio>=1.2, but you'll have nest-asyncio 1.0.0 which is incompatible.\u001b[0m\n",
      "\u001b[31mERROR: pyquil 2.28.1 has requirement rpcq>=3.6.0, but you'll have rpcq 2.7.2 which is incompatible.\u001b[0m\n",
      "\u001b[31mERROR: dwave-ocean-sdk 3.4.0 has requirement dimod==0.9.15, but you'll have dimod 0.8.21 which is incompatible.\u001b[0m\n",
      "\u001b[31mERROR: dwave-ocean-sdk 3.4.0 has requirement minorminer==0.2.6, but you'll have minorminer 0.1.8 which is incompatible.\u001b[0m\n",
      "\u001b[31mERROR: dwave-ocean-sdk 3.4.0 has requirement penaltymodel==0.16.4, but you'll have penaltymodel 0.16.2 which is incompatible.\u001b[0m\n",
      "\u001b[31mERROR: dwave-ocean-sdk 3.4.0 has requirement penaltymodel-cache==0.4.3, but you'll have penaltymodel-cache 0.4.0 which is incompatible.\u001b[0m\n",
      "\u001b[31mERROR: dwave-ocean-sdk 3.4.0 has requirement penaltymodel-mip==0.2.4; platform_machine == \"x86_64\" or platform_machine == \"amd64\" or platform_machine == \"AMD64\", but you'll have penaltymodel-mip 0.2.1 which is incompatible.\u001b[0m\n",
      "\u001b[31mERROR: dwave-ocean-sdk 3.4.0 has requirement pyqubo==1.0.12, but you'll have pyqubo 0.4.0 which is incompatible.\u001b[0m\n",
      "\u001b[31mERROR: cirq-core 0.11.0 has requirement networkx~=2.4, but you'll have networkx 2.2 which is incompatible.\u001b[0m\n",
      "Installing collected packages: scipy, pybind11\n",
      "  Attempting uninstall: scipy\n",
      "    Found existing installation: scipy 1.1.0\n",
      "    Uninstalling scipy-1.1.0:\n",
      "\u001b[31mERROR: Could not install packages due to an EnvironmentError: [Errno 13] Permission denied: 'METADATA'\n",
      "Consider using the `--user` option or check the permissions.\n",
      "\u001b[0m\n",
      "Note: you may need to restart the kernel to use updated packages.\n"
     ]
    }
   ],
   "source": [
    "%pip install qiskit"
   ]
  },
  {
   "cell_type": "code",
   "execution_count": 2,
   "metadata": {
    "scrolled": true
   },
   "outputs": [
    {
     "name": "stdout",
     "output_type": "stream",
     "text": [
      "Requirement already satisfied: pylatexenc in /opt/conda/lib/python3.7/site-packages (1.5)\n",
      "Note: you may need to restart the kernel to use updated packages.\n",
      "Requirement already satisfied: matplotlib in /opt/conda/lib/python3.7/site-packages (3.4.2)\n",
      "Requirement already satisfied: numpy>=1.16 in /opt/conda/lib/python3.7/site-packages (from matplotlib) (1.18.4)\n",
      "Requirement already satisfied: pyparsing>=2.2.1 in /opt/conda/lib/python3.7/site-packages (from matplotlib) (2.4.2)\n",
      "Requirement already satisfied: python-dateutil>=2.7 in /opt/conda/lib/python3.7/site-packages (from matplotlib) (2.8.0)\n",
      "Requirement already satisfied: kiwisolver>=1.0.1 in /opt/conda/lib/python3.7/site-packages (from matplotlib) (1.1.0)\n",
      "Requirement already satisfied: pillow>=6.2.0 in /opt/conda/lib/python3.7/site-packages (from matplotlib) (8.3.1)\n",
      "Requirement already satisfied: cycler>=0.10 in /opt/conda/lib/python3.7/site-packages (from matplotlib) (0.10.0)\n",
      "Requirement already satisfied: six>=1.5 in /opt/conda/lib/python3.7/site-packages (from python-dateutil>=2.7->matplotlib) (1.12.0)\n",
      "Requirement already satisfied: setuptools in /opt/conda/lib/python3.7/site-packages (from kiwisolver>=1.0.1->matplotlib) (47.3.1.post20200616)\n",
      "Note: you may need to restart the kernel to use updated packages.\n"
     ]
    }
   ],
   "source": [
    "%pip install pylatexenc\n",
    "%pip install matplotlib"
   ]
  },
  {
   "cell_type": "code",
   "execution_count": 3,
   "metadata": {},
   "outputs": [],
   "source": [
    "from qiskit import QuantumCircuit, QuantumRegister, ClassicalRegister, BasicAer, execute\n",
    "from qiskit.quantum_info import Statevector\n",
    "import numpy as np\n",
    "from qiskit.visualization import plot_histogram, plot_state_qsphere, plot_bloch_multivector, plot_bloch_vector\n",
    "import getpass"
   ]
  },
  {
   "cell_type": "code",
   "execution_count": 4,
   "metadata": {},
   "outputs": [],
   "source": [
    "res = [False for i in range(0,52)]"
   ]
  },
  {
   "cell_type": "code",
   "execution_count": 5,
   "metadata": {},
   "outputs": [
    {
     "data": {
      "text/plain": [
       "<Figure size 180.108x618.722 with 1 Axes>"
      ]
     },
     "execution_count": 5,
     "metadata": {},
     "output_type": "execute_result"
    }
   ],
   "source": [
    "    q = QuantumRegister(6)\n",
    "    c = ClassicalRegister(6)\n",
    "    quantum_circuit = QuantumCircuit(q, c)\n",
    "    quantum_circuit.draw('mpl')"
   ]
  },
  {
   "cell_type": "code",
   "execution_count": 6,
   "metadata": {},
   "outputs": [
    {
     "data": {
      "image/png": "[encoded data removed]",
      "text/plain": [
       "<Figure size 159.778x445.48 with 1 Axes>"
      ]
     },
     "execution_count": 6,
     "metadata": {},
     "output_type": "execute_result"
    }
   ],
   "source": [
    "    for i in range(6):\n",
    "        quantum_circuit.i(q[i])\n",
    "    quantum_circuit.draw('mpl')"
   ]
  },
  {
   "cell_type": "code",
   "execution_count": 7,
   "metadata": {},
   "outputs": [
    {
     "data": {
      "image/png": "[encoded data removed]",
      "text/plain": [
       "<Figure size 219.978x445.48 with 1 Axes>"
      ]
     },
     "execution_count": 7,
     "metadata": {},
     "output_type": "execute_result"
    }
   ],
   "source": [
    "    # That's great and all, but I wanna play with superposition! \n",
    "    # Let's add a hadamard gate, or an H-gate!\n",
    "    for i in range(6):\n",
    "        quantum_circuit.h(q[i])\n",
    "    # Let's look now:\n",
    "    quantum_circuit.draw('mpl')\n",
    "    # There it is! We've added an h-gate!"
   ]
  },
  {
   "cell_type": "code",
   "execution_count": 8,
   "metadata": {},
   "outputs": [
    {
     "data": {
      "image/png": "[encoded data removed]",
      "text/plain": [
       "<Figure size 581.178x445.48 with 1 Axes>"
      ]
     },
     "execution_count": 8,
     "metadata": {},
     "output_type": "execute_result"
    }
   ],
   "source": [
    "    # What happens if I measure my bit... how do I do that again?\n",
    "    quantum_circuit.measure(0, 0)\n",
    "    quantum_circuit.measure(1, 1)\n",
    "    quantum_circuit.measure(2, 2)\n",
    "    quantum_circuit.measure(3, 3)\n",
    "    quantum_circuit.measure(4, 4)\n",
    "    quantum_circuit.measure(5, 5)\n",
    "    # Ooh! Did that change my circuit at all?\n",
    "    quantum_circuit.draw('mpl')\n",
    "    # Huh, it did! Looks like we're measuring it into a classical bit"
   ]
  },
  {
   "cell_type": "code",
   "execution_count": 9,
   "metadata": {
    "scrolled": false
   },
   "outputs": [],
   "source": [
    "    # Rerun this cell about 10 times. What do you notice about the output?\n",
    "    backend = BasicAer.get_backend('qasm_simulator')\n",
    "    #plot_histogram(counts)"
   ]
  },
  {
   "cell_type": "code",
   "execution_count": 10,
   "metadata": {},
   "outputs": [],
   "source": [
    "    # Sometimes, my output is 1, and sometimes it's 0!\n",
    "    # My code almost acts like a coin flip! I guess it has\n",
    "    # something to do with measuring my qubit after putting an h-gate...\n",
    "    # ...I wonder what else I could do with qiskit!"
   ]
  },
  {
   "cell_type": "code",
   "execution_count": null,
   "metadata": {},
   "outputs": [],
   "source": []
  },
  {
   "cell_type": "code",
   "execution_count": 11,
   "metadata": {},
   "outputs": [],
   "source": [
    "\n",
    "def drawCard():\n",
    "    counts=execute(quantum_circuit, backend, shots=1).result().get_counts(quantum_circuit)\n",
    "    currentDraw = counts.most_frequent()\n",
    "    x = int(currentDraw, 2)\n",
    "    #print(x)\n",
    "    while x >= 52 or res[x]==True:\n",
    "        counts=execute(quantum_circuit, backend, shots=1).result().get_counts(quantum_circuit)\n",
    "        currentDraw = counts.most_frequent()\n",
    "        x = int(counts.most_frequent(), 2)\n",
    "    #print(x)\n",
    "    plot_histogram(counts)\n",
    "    res[x] = True\n",
    "    return x\n",
    "    "
   ]
  },
  {
   "cell_type": "code",
   "execution_count": 12,
   "metadata": {},
   "outputs": [],
   "source": [
    "card = drawCard()\n",
    "suit = int(card/13) #suit\n",
    "value = card%13 #value"
   ]
  },
  {
   "cell_type": "code",
   "execution_count": 13,
   "metadata": {},
   "outputs": [],
   "source": [
    "suitDict = {\n",
    "  0: \"Diamonds\",\n",
    "  1: \"Hearts\",\n",
    "  2: \"Spades\",\n",
    "  3: \"Clubs\"\n",
    "}"
   ]
  },
  {
   "cell_type": "code",
   "execution_count": 14,
   "metadata": {},
   "outputs": [],
   "source": [
    "valueDict = {\n",
    "  0: \"Ace\",\n",
    "  1: \"2\",\n",
    "  2: \"3\",\n",
    "  3: \"4\",\n",
    "  4: \"5\",\n",
    "  5: \"6\",\n",
    "  6: \"7\",\n",
    "  7: \"8\",\n",
    "  8: \"9\",\n",
    "  9: \"10\",\n",
    "  10: \"Jack\",\n",
    "  11: \"Queen\",\n",
    "  12: \"King\"\n",
    "}"
   ]
  },
  {
   "cell_type": "code",
   "execution_count": 15,
   "metadata": {},
   "outputs": [],
   "source": [
    "#Testing draw card\n",
    "cardValue = str(valueDict.get(value)) + \" of \" + str(suitDict.get(suit))"
   ]
  },
  {
   "cell_type": "code",
   "execution_count": 16,
   "metadata": {},
   "outputs": [],
   "source": [
    "def getCard(num):\n",
    "    suit = int(num/13) #suit\n",
    "    value = num%13 #value\n",
    "    #num/13 value\n",
    "    #num%13 suit\n",
    "    return str(valueDict.get(value) + \" of \" + str(suitDict.get(suit)))"
   ]
  },
  {
   "cell_type": "code",
   "execution_count": 17,
   "metadata": {},
   "outputs": [],
   "source": [
    "def blackJackSetup():\n",
    "    global dealerCards\n",
    "    dealerCards = [drawCard(), drawCard()]\n",
    "    global myCards\n",
    "    myCards = [drawCard(), drawCard()]\n",
    "def printDealerCards(shouldPrintFirst):\n",
    "    print(\"Dealer Cards: \")\n",
    "    count = 0\n",
    "    for i in dealerCards:\n",
    "        if count == 0 and shouldPrintFirst:\n",
    "            print(\"\\tFacedown Card\")\n",
    "            count = count + 1\n",
    "        else:\n",
    "            print(\"\\t\" + getCard(i))\n",
    "def numToVal(element):\n",
    "    result = element%13 + 1\n",
    "    if result > 10:\n",
    "        result = 10\n",
    "    return result\n",
    "def printYourCards():\n",
    "    print(\"Your Cards: \")\n",
    "    for i in myCards:\n",
    "        print(\"\\t\" + getCard(i))\n",
    "def promptUser():\n",
    "    userInput = input(\"Do you wannna hit?(yes/no)\")\n",
    "    \n",
    "    if(userInput == \"yes\"):\n",
    "        hitPerson(myCards)\n",
    "        return True\n",
    "    else:\n",
    "        return False\n",
    "def hitPerson(hand):\n",
    "    hand.append(drawCard())\n",
    "def getHandValue(hand):\n",
    "    sum = 0;\n",
    "    aceCondition = False\n",
    "    for element in hand:\n",
    "        num = numToVal(element)\n",
    "        if num == 1:\n",
    "            num = 11;\n",
    "            aceCondition = True\n",
    "        sum  = sum + num\n",
    "    if sum > 21 and aceCondition:\n",
    "        sum = sum - 10\n",
    "    return sum\n",
    "def printEndGame():\n",
    "    userValue = getHandValue(myCards)\n",
    "    dealerValue = getHandValue(dealerCards)\n",
    "    \n",
    "    if(dealerValue > 21 or userValue > dealerValue):\n",
    "        print(\"Game Over, You Win!!\")\n",
    "    elif(dealerValue==userValue):\n",
    "        q2 = QuantumRegister(1)\n",
    "        c2 = ClassicalRegister(1)\n",
    "        quantum_circuit2 = QuantumCircuit(q2, c2)\n",
    "        quantum_circuit2.i(q2[0])\n",
    "        quantum_circuit2.h(q2[i])\n",
    "        quantum_circuit2.measure(0, 0)\n",
    "        counts2=execute(quantum_circuit2, backend, shots=1).result().get_counts(quantum_circuit2)\n",
    "        thisVal = counts2.most_frequent()\n",
    "        if (counts2 == \"0\"):\n",
    "            print(\"Game Over, You Lose.\")\n",
    "        else:\n",
    "            print(\"Game Over, You Win!!\")\n",
    "    else:\n",
    "        print(\"Game Over, You Lose.\")\n",
    "    "
   ]
  },
  {
   "cell_type": "code",
   "execution_count": 21,
   "metadata": {
    "scrolled": false
   },
   "outputs": [
    {
     "name": "stdout",
     "output_type": "stream",
     "text": [
      "Dealer Cards: \n",
      "\tFacedown Card\n",
      "\t5 of Hearts\n",
      "Your Cards: \n",
      "\t9 of Clubs\n",
      "\t4 of Clubs\n",
      "---------------------------------------------------\n",
      "Do you wannna hit?(yes/no)yes\n",
      "Dealer Cards: \n",
      "\tFacedown Card\n",
      "\t5 of Hearts\n",
      "Your Cards: \n",
      "\t9 of Clubs\n",
      "\t4 of Clubs\n",
      "\t4 of Spades\n",
      "---------------------------------------------------\n",
      "Do you wannna hit?(yes/no)no\n",
      "-----Dealer Turn------\n",
      "Dealer Cards: \n",
      "\t8 of Hearts\n",
      "\t5 of Hearts\n",
      "\t2 of Spades\n",
      "\t7 of Diamonds\n",
      "Your Cards: \n",
      "\t9 of Clubs\n",
      "\t4 of Clubs\n",
      "\t4 of Spades\n",
      "Game Over, You Win!!\n"
     ]
    }
   ],
   "source": [
    "#run game\n",
    "\n",
    "#setup\n",
    "gameOver = False\n",
    "blackJackSetup()\n",
    "handValue = 0\n",
    "\n",
    "printDealerCards(True)\n",
    "printYourCards()\n",
    "    \n",
    "#game loop\n",
    "while True:\n",
    "    print(\"---------------------------------------------------\")\n",
    "    if(handValue >= 21 or not promptUser()):\n",
    "        break\n",
    "    \n",
    "    printDealerCards(True)\n",
    "    printYourCards()\n",
    "    \n",
    "    handValue = getHandValue(myCards)\n",
    "\n",
    "if handValue < 21:\n",
    "    print(\"-----Dealer Turn------\")\n",
    "    while getHandValue(dealerCards) < 17:\n",
    "        dealerCards.append(drawCard())\n",
    "\n",
    "    printDealerCards(False)\n",
    "    printYourCards()\n",
    "    printEndGame()\n",
    "else:\n",
    "    print(\"Bust! Game Over, You Lose.\")\n",
    "    "
   ]
  },
  {
   "cell_type": "code",
   "execution_count": null,
   "metadata": {},
   "outputs": [],
   "source": []
  },
  {
   "cell_type": "code",
   "execution_count": null,
   "metadata": {},
   "outputs": [],
   "source": []
  },
  {
   "cell_type": "code",
   "execution_count": null,
   "metadata": {},
   "outputs": [],
   "source": []
  },
  {
   "cell_type": "code",
   "execution_count": null,
   "metadata": {},
   "outputs": [],
   "source": []
  },
  {
   "cell_type": "code",
   "execution_count": null,
   "metadata": {},
   "outputs": [],
   "source": []
  },
  {
   "cell_type": "code",
   "execution_count": null,
   "metadata": {},
   "outputs": [],
   "source": []
  },
  {
   "cell_type": "code",
   "execution_count": null,
   "metadata": {},
   "outputs": [],
   "source": []
  }
 ],
 "metadata": {
  "kernelspec": {
   "display_name": "Python 3",
   "language": "python",
   "name": "python3"
  },
  "language_info": {
   "codemirror_mode": {
    "name": "ipython",
    "version": 3
   },
   "file_extension": ".py",
   "mimetype": "text/x-python",
   "name": "python",
   "nbconvert_exporter": "python",
   "pygments_lexer": "ipython3",
   "version": "3.7.6"
  }
 },
 "nbformat": 4,
 "nbformat_minor": 5
}
